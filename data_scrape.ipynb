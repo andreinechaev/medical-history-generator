{
 "cells": [
  {
   "cell_type": "code",
   "execution_count": 4,
   "metadata": {},
   "outputs": [],
   "source": [
    "import requests\n",
    "from bs4 import BeautifulSoup\n",
    "import numpy as np\n",
    "import pandas as pd\n",
    "import re\n",
    "\n",
    "%matplotlib inline\n"
   ]
  },
  {
   "cell_type": "code",
   "execution_count": 5,
   "metadata": {},
   "outputs": [],
   "source": [
    "med_book_url = 'https://med-books.by/istorii_vnutrennie-bolezni/page/'\n",
    "king_med_url = 'https://kingmed.info/Istorii-boleznyeĭ'\n",
    "student_med_url = 'http://studentmedic.ru/history.php?page='\n"
   ]
  },
  {
   "cell_type": "code",
   "execution_count": 116,
   "metadata": {},
   "outputs": [],
   "source": [
    "def load_html(url):\n",
    "    headers = {'user-agent': 'my-app/0.0.1'}\n",
    "    r = requests.get(url, headers=headers)\n",
    "    r.encoding = r.apparent_encoding\n",
    "    return r.text\n"
   ]
  },
  {
   "cell_type": "code",
   "execution_count": null,
   "metadata": {},
   "outputs": [],
   "source": [
    "med_book_cards = []\n",
    "for i in range(1, 35):\n",
    "    next_p = BeautifulSoup(load_html(\n",
    "        med_book_url + str(i) + '/'), 'html.parser').find_all('div', class_='all')\n",
    "    med_book_cards.extend(next_p)\n",
    "\n",
    "len(med_book_cards)\n",
    "med_book_cards[33]\n"
   ]
  },
  {
   "cell_type": "code",
   "execution_count": null,
   "metadata": {},
   "outputs": [],
   "source": [
    "med_book_data = [dp.find_all('h2', class_='title')[\n",
    "    0].text for dp in med_book_cards]\n",
    "med_book_data = [re.sub(' История болезни: ', '', dp) for dp in med_book_data]\n",
    "med_book_data[:5]\n"
   ]
  },
  {
   "cell_type": "code",
   "execution_count": null,
   "metadata": {},
   "outputs": [],
   "source": [
    "med_book_df = pd.DataFrame(med_book_data[1:], columns=['История болезни'])\n",
    "med_book_df.head()\n"
   ]
  },
  {
   "cell_type": "code",
   "execution_count": null,
   "metadata": {},
   "outputs": [],
   "source": [
    "med_book_df.to_csv('data/med_book_data.csv', index=False)\n"
   ]
  },
  {
   "cell_type": "code",
   "execution_count": null,
   "metadata": {},
   "outputs": [],
   "source": [
    "king_med_types = BeautifulSoup(\n",
    "    load_html(king_med_url), 'html.parser').find_all('div', class_='status')\n",
    "kind_links = [str(kind.find_all('a')[0].attrs['href'])\n",
    "              for kind in king_med_types]\n",
    "king_med_types = []\n",
    "for link in kind_links:\n",
    "    url = king_med_url + '/' + link.split('/')[-1]\n",
    "    html = load_html(url)\n",
    "    types = BeautifulSoup(html, 'html.parser').find_all('div', class_='status')\n",
    "    king_med_types.extend(types)\n",
    "\n",
    "len(king_med_types)\n"
   ]
  },
  {
   "cell_type": "code",
   "execution_count": null,
   "metadata": {},
   "outputs": [],
   "source": [
    "king_med_data = [kind.text.replace('\\n', ' ') for kind in king_med_types]\n",
    "king_med_df = pd.DataFrame(king_med_data[1:], columns=['История болезни'])\n",
    "king_med_df.head(20)\n"
   ]
  },
  {
   "cell_type": "code",
   "execution_count": null,
   "metadata": {},
   "outputs": [],
   "source": [
    "king_med_df.to_csv('data/king_med_data.csv', index=False)\n"
   ]
  },
  {
   "cell_type": "code",
   "execution_count": null,
   "metadata": {},
   "outputs": [],
   "source": [
    "king_med_df.describe()\n"
   ]
  },
  {
   "cell_type": "code",
   "execution_count": null,
   "metadata": {},
   "outputs": [],
   "source": [
    "med_book_df.describe()\n"
   ]
  },
  {
   "cell_type": "code",
   "execution_count": 8,
   "metadata": {},
   "outputs": [
    {
     "data": {
      "text/plain": [
       "724"
      ]
     },
     "execution_count": 8,
     "metadata": {},
     "output_type": "execute_result"
    }
   ],
   "source": [
    "studentmed_cards = []\n",
    "for i in range(1, 30):\n",
    "    next_p = BeautifulSoup(load_html(student_med_url + str(i)),\n",
    "                           'html.parser').find_all('div', class_='spis')\n",
    "    for link in next_p:\n",
    "        for a in link.find_all('ul')[0].find_all('a'):\n",
    "            studentmed_cards.append(a)\n",
    "    # studentmed_cards.extend(next_p)\n",
    "\n",
    "len(studentmed_cards)\n"
   ]
  },
  {
   "cell_type": "code",
   "execution_count": 9,
   "metadata": {},
   "outputs": [
    {
     "data": {
      "text/plain": [
       "['http://studentmedic.ru/history.php?view=434',\n",
       " 'http://studentmedic.ru/history.php?view=420',\n",
       " 'http://studentmedic.ru/history.php?view=481',\n",
       " 'http://studentmedic.ru/history.php?view=395',\n",
       " 'http://studentmedic.ru/history.php?view=409']"
      ]
     },
     "execution_count": 9,
     "metadata": {},
     "output_type": "execute_result"
    }
   ],
   "source": [
    "studentmed_cards[0].attrs['href']\n",
    "studmed_views = [student_med_url.split('?')[0] + '?' + card.attrs['href'].split(\n",
    "    '?')[-1].replace('ref', 'view') for card in studentmed_cards]\n",
    "studmed_views[:5]\n"
   ]
  },
  {
   "cell_type": "code",
   "execution_count": 11,
   "metadata": {},
   "outputs": [],
   "source": [
    "all_divs = []\n",
    "for view in studmed_views:\n",
    "    div = BeautifulSoup(load_html(view), 'html.parser').find_all(\n",
    "        'div', class_='main')[0]\n",
    "    all_divs.append(div)\n"
   ]
  },
  {
   "cell_type": "code",
   "execution_count": 214,
   "metadata": {},
   "outputs": [
    {
     "data": {
      "text/plain": [
       "281"
      ]
     },
     "execution_count": 214,
     "metadata": {},
     "output_type": "execute_result"
    }
   ],
   "source": [
    "from tools.text_tools import process_ru\n",
    "\n",
    "studmed_data = []\n",
    "for div in all_divs:\n",
    "    all_is = []\n",
    "    for p in div.find_all('p'):\n",
    "\n",
    "        for i in p.find_all('i'):\n",
    "            t: str = i.text.replace('\\n', '').replace(\n",
    "                '\\t', '').replace('\"', '').replace(';', '').strip()\n",
    "            all_is.append(t)\n",
    "\n",
    "    sanitaized = process_ru(' '.join(all_is).strip())\n",
    "    if sanitaized and len(sanitaized) > 128:\n",
    "        studmed_data.append(sanitaized)\n",
    "\n",
    "len(studmed_data)\n"
   ]
  },
  {
   "cell_type": "code",
   "execution_count": 215,
   "metadata": {},
   "outputs": [
    {
     "data": {
      "text/html": [
       "<div>\n",
       "<style scoped>\n",
       "    .dataframe tbody tr th:only-of-type {\n",
       "        vertical-align: middle;\n",
       "    }\n",
       "\n",
       "    .dataframe tbody tr th {\n",
       "        vertical-align: top;\n",
       "    }\n",
       "\n",
       "    .dataframe thead th {\n",
       "        text-align: right;\n",
       "    }\n",
       "</style>\n",
       "<table border=\"1\" class=\"dataframe\">\n",
       "  <thead>\n",
       "    <tr style=\"text-align: right;\">\n",
       "      <th></th>\n",
       "      <th>История болезни</th>\n",
       "    </tr>\n",
       "  </thead>\n",
       "  <tbody>\n",
       "    <tr>\n",
       "      <th>0</th>\n",
       "      <td>Московская Медицинская Академия им. И. М. Сече...</td>\n",
       "    </tr>\n",
       "    <tr>\n",
       "      <th>1</th>\n",
       "      <td>ИСТОРИЯ БОЛЕЗНИ Подвижность легочного края Выс...</td>\n",
       "    </tr>\n",
       "    <tr>\n",
       "      <th>2</th>\n",
       "      <td>заведующий кафедрой доцент преподаватель ассис...</td>\n",
       "    </tr>\n",
       "    <tr>\n",
       "      <th>3</th>\n",
       "      <td>Паспортные данные Жалобы 1. При поступлении 2....</td>\n",
       "    </tr>\n",
       "    <tr>\n",
       "      <th>4</th>\n",
       "      <td>53 года г. Москва электромонтажник &lt;DATE&gt; г., ...</td>\n",
       "    </tr>\n",
       "    <tr>\n",
       "      <th>5</th>\n",
       "      <td>Дыхательная система. Пальпация. Перкуссия. Топ...</td>\n",
       "    </tr>\n",
       "    <tr>\n",
       "      <th>6</th>\n",
       "      <td>Клинический диагноз аденома гипофиза 1. Физиче...</td>\n",
       "    </tr>\n",
       "    <tr>\n",
       "      <th>7</th>\n",
       "      <td>опущение матки Аденомиоз, эндометриоз перешейк...</td>\n",
       "    </tr>\n",
       "    <tr>\n",
       "      <th>8</th>\n",
       "      <td>Наследственность и семейный анамнез. История ж...</td>\n",
       "    </tr>\n",
       "    <tr>\n",
       "      <th>9</th>\n",
       "      <td>Жалобы больного на день курации 3. Дополнитель...</td>\n",
       "    </tr>\n",
       "  </tbody>\n",
       "</table>\n",
       "</div>"
      ],
      "text/plain": [
       "                                     История болезни\n",
       "0  Московская Медицинская Академия им. И. М. Сече...\n",
       "1  ИСТОРИЯ БОЛЕЗНИ Подвижность легочного края Выс...\n",
       "2  заведующий кафедрой доцент преподаватель ассис...\n",
       "3  Паспортные данные Жалобы 1. При поступлении 2....\n",
       "4  53 года г. Москва электромонтажник <DATE> г., ...\n",
       "5  Дыхательная система. Пальпация. Перкуссия. Топ...\n",
       "6  Клинический диагноз аденома гипофиза 1. Физиче...\n",
       "7  опущение матки Аденомиоз, эндометриоз перешейк...\n",
       "8  Наследственность и семейный анамнез. История ж...\n",
       "9  Жалобы больного на день курации 3. Дополнитель..."
      ]
     },
     "execution_count": 215,
     "metadata": {},
     "output_type": "execute_result"
    }
   ],
   "source": [
    "studmed_df = pd.DataFrame(studmed_data, columns=['История болезни'])\n",
    "studmed_df.head(10)\n"
   ]
  },
  {
   "cell_type": "code",
   "execution_count": 216,
   "metadata": {},
   "outputs": [
    {
     "data": {
      "text/html": [
       "<div>\n",
       "<style scoped>\n",
       "    .dataframe tbody tr th:only-of-type {\n",
       "        vertical-align: middle;\n",
       "    }\n",
       "\n",
       "    .dataframe tbody tr th {\n",
       "        vertical-align: top;\n",
       "    }\n",
       "\n",
       "    .dataframe thead th {\n",
       "        text-align: right;\n",
       "    }\n",
       "</style>\n",
       "<table border=\"1\" class=\"dataframe\">\n",
       "  <thead>\n",
       "    <tr style=\"text-align: right;\">\n",
       "      <th></th>\n",
       "      <th>История болезни</th>\n",
       "    </tr>\n",
       "  </thead>\n",
       "  <tbody>\n",
       "    <tr>\n",
       "      <th>count</th>\n",
       "      <td>281</td>\n",
       "    </tr>\n",
       "    <tr>\n",
       "      <th>unique</th>\n",
       "      <td>279</td>\n",
       "    </tr>\n",
       "    <tr>\n",
       "      <th>top</th>\n",
       "      <td>с. наружная конъюгата истинная конъюгата Ромб ...</td>\n",
       "    </tr>\n",
       "    <tr>\n",
       "      <th>freq</th>\n",
       "      <td>2</td>\n",
       "    </tr>\n",
       "  </tbody>\n",
       "</table>\n",
       "</div>"
      ],
      "text/plain": [
       "                                          История болезни\n",
       "count                                                 281\n",
       "unique                                                279\n",
       "top     с. наружная конъюгата истинная конъюгата Ромб ...\n",
       "freq                                                    2"
      ]
     },
     "execution_count": 216,
     "metadata": {},
     "output_type": "execute_result"
    }
   ],
   "source": [
    "studmed_df.describe()\n"
   ]
  },
  {
   "cell_type": "code",
   "execution_count": 217,
   "metadata": {},
   "outputs": [
    {
     "data": {
      "text/html": [
       "<div>\n",
       "<style scoped>\n",
       "    .dataframe tbody tr th:only-of-type {\n",
       "        vertical-align: middle;\n",
       "    }\n",
       "\n",
       "    .dataframe tbody tr th {\n",
       "        vertical-align: top;\n",
       "    }\n",
       "\n",
       "    .dataframe thead th {\n",
       "        text-align: right;\n",
       "    }\n",
       "</style>\n",
       "<table border=\"1\" class=\"dataframe\">\n",
       "  <thead>\n",
       "    <tr style=\"text-align: right;\">\n",
       "      <th></th>\n",
       "      <th>История болезни</th>\n",
       "    </tr>\n",
       "  </thead>\n",
       "  <tbody>\n",
       "    <tr>\n",
       "      <th>0</th>\n",
       "      <td>Московская Медицинская Академия им. И. М. Сече...</td>\n",
       "    </tr>\n",
       "    <tr>\n",
       "      <th>1</th>\n",
       "      <td>ИСТОРИЯ БОЛЕЗНИ Подвижность легочного края Выс...</td>\n",
       "    </tr>\n",
       "    <tr>\n",
       "      <th>2</th>\n",
       "      <td>заведующий кафедрой доцент преподаватель ассис...</td>\n",
       "    </tr>\n",
       "    <tr>\n",
       "      <th>3</th>\n",
       "      <td>Паспортные данные Жалобы 1. При поступлении 2....</td>\n",
       "    </tr>\n",
       "    <tr>\n",
       "      <th>4</th>\n",
       "      <td>53 года г. Москва электромонтажник &lt;DATE&gt; г., ...</td>\n",
       "    </tr>\n",
       "    <tr>\n",
       "      <th>5</th>\n",
       "      <td>Дыхательная система. Пальпация. Перкуссия. Топ...</td>\n",
       "    </tr>\n",
       "    <tr>\n",
       "      <th>6</th>\n",
       "      <td>Клинический диагноз аденома гипофиза 1. Физиче...</td>\n",
       "    </tr>\n",
       "    <tr>\n",
       "      <th>7</th>\n",
       "      <td>опущение матки Аденомиоз, эндометриоз перешейк...</td>\n",
       "    </tr>\n",
       "    <tr>\n",
       "      <th>8</th>\n",
       "      <td>Наследственность и семейный анамнез. История ж...</td>\n",
       "    </tr>\n",
       "    <tr>\n",
       "      <th>9</th>\n",
       "      <td>Жалобы больного на день курации 3. Дополнитель...</td>\n",
       "    </tr>\n",
       "  </tbody>\n",
       "</table>\n",
       "</div>"
      ],
      "text/plain": [
       "                                     История болезни\n",
       "0  Московская Медицинская Академия им. И. М. Сече...\n",
       "1  ИСТОРИЯ БОЛЕЗНИ Подвижность легочного края Выс...\n",
       "2  заведующий кафедрой доцент преподаватель ассис...\n",
       "3  Паспортные данные Жалобы 1. При поступлении 2....\n",
       "4  53 года г. Москва электромонтажник <DATE> г., ...\n",
       "5  Дыхательная система. Пальпация. Перкуссия. Топ...\n",
       "6  Клинический диагноз аденома гипофиза 1. Физиче...\n",
       "7  опущение матки Аденомиоз, эндометриоз перешейк...\n",
       "8  Наследственность и семейный анамнез. История ж...\n",
       "9  Жалобы больного на день курации 3. Дополнитель..."
      ]
     },
     "execution_count": 217,
     "metadata": {},
     "output_type": "execute_result"
    }
   ],
   "source": [
    "studmed_df['История болезни'].replace('', np.nan, inplace=True)\n",
    "studmed_df.dropna(inplace=True)\n",
    "studmed_df.drop_duplicates(inplace=True)\n",
    "studmed_df.head(10)\n"
   ]
  },
  {
   "cell_type": "code",
   "execution_count": 218,
   "metadata": {},
   "outputs": [],
   "source": [
    "studmed_df.to_csv('data/studmed_data.csv', index=False)\n"
   ]
  },
  {
   "cell_type": "code",
   "execution_count": 219,
   "metadata": {},
   "outputs": [
    {
     "data": {
      "text/html": [
       "<div>\n",
       "<style scoped>\n",
       "    .dataframe tbody tr th:only-of-type {\n",
       "        vertical-align: middle;\n",
       "    }\n",
       "\n",
       "    .dataframe tbody tr th {\n",
       "        vertical-align: top;\n",
       "    }\n",
       "\n",
       "    .dataframe thead th {\n",
       "        text-align: right;\n",
       "    }\n",
       "</style>\n",
       "<table border=\"1\" class=\"dataframe\">\n",
       "  <thead>\n",
       "    <tr style=\"text-align: right;\">\n",
       "      <th></th>\n",
       "      <th>История болезни</th>\n",
       "    </tr>\n",
       "  </thead>\n",
       "  <tbody>\n",
       "    <tr>\n",
       "      <th>count</th>\n",
       "      <td>279</td>\n",
       "    </tr>\n",
       "    <tr>\n",
       "      <th>unique</th>\n",
       "      <td>279</td>\n",
       "    </tr>\n",
       "    <tr>\n",
       "      <th>top</th>\n",
       "      <td>Московская Медицинская Академия им. И. М. Сече...</td>\n",
       "    </tr>\n",
       "    <tr>\n",
       "      <th>freq</th>\n",
       "      <td>1</td>\n",
       "    </tr>\n",
       "  </tbody>\n",
       "</table>\n",
       "</div>"
      ],
      "text/plain": [
       "                                          История болезни\n",
       "count                                                 279\n",
       "unique                                                279\n",
       "top     Московская Медицинская Академия им. И. М. Сече...\n",
       "freq                                                    1"
      ]
     },
     "execution_count": 219,
     "metadata": {},
     "output_type": "execute_result"
    }
   ],
   "source": [
    "studmed_df.describe()\n"
   ]
  },
  {
   "cell_type": "code",
   "execution_count": 220,
   "metadata": {},
   "outputs": [],
   "source": [
    "med_book_df = pd.read_csv('data/med_book_data.csv')\n",
    "king_med_df = pd.read_csv('data/king_med_data.csv')\n"
   ]
  },
  {
   "cell_type": "code",
   "execution_count": 221,
   "metadata": {},
   "outputs": [
    {
     "data": {
      "text/html": [
       "<div>\n",
       "<style scoped>\n",
       "    .dataframe tbody tr th:only-of-type {\n",
       "        vertical-align: middle;\n",
       "    }\n",
       "\n",
       "    .dataframe tbody tr th {\n",
       "        vertical-align: top;\n",
       "    }\n",
       "\n",
       "    .dataframe thead th {\n",
       "        text-align: right;\n",
       "    }\n",
       "</style>\n",
       "<table border=\"1\" class=\"dataframe\">\n",
       "  <thead>\n",
       "    <tr style=\"text-align: right;\">\n",
       "      <th></th>\n",
       "      <th>История болезни</th>\n",
       "    </tr>\n",
       "  </thead>\n",
       "  <tbody>\n",
       "    <tr>\n",
       "      <th>count</th>\n",
       "      <td>42</td>\n",
       "    </tr>\n",
       "    <tr>\n",
       "      <th>unique</th>\n",
       "      <td>42</td>\n",
       "    </tr>\n",
       "    <tr>\n",
       "      <th>top</th>\n",
       "      <td>ИБС. Нестабильная стенокардия А класса по Брау...</td>\n",
       "    </tr>\n",
       "    <tr>\n",
       "      <th>freq</th>\n",
       "      <td>1</td>\n",
       "    </tr>\n",
       "  </tbody>\n",
       "</table>\n",
       "</div>"
      ],
      "text/plain": [
       "                                          История болезни\n",
       "count                                                  42\n",
       "unique                                                 42\n",
       "top     ИБС. Нестабильная стенокардия А класса по Брау...\n",
       "freq                                                    1"
      ]
     },
     "execution_count": 221,
     "metadata": {},
     "output_type": "execute_result"
    }
   ],
   "source": [
    "def process_df(df):\n",
    "    df['История болезни'] = df['История болезни'].apply(\n",
    "        lambda x: process(x).strip())\n",
    "    df['История болезни'].replace('', np.nan, inplace=True)\n",
    "\n",
    "    df[\"Count\"] = df['История болезни'].apply(lambda x: len(x))\n",
    "    df = df[(df[\"Count\"] >= 128)]\n",
    "    df = df.drop(columns=['Count'])\n",
    "\n",
    "    df.dropna(inplace=True)\n",
    "    df.drop_duplicates(inplace=True)\n",
    "\n",
    "    return df\n",
    "\n",
    "\n",
    "med_book_df = process_df(med_book_df)\n",
    "med_book_df.describe()\n"
   ]
  },
  {
   "cell_type": "code",
   "execution_count": 222,
   "metadata": {},
   "outputs": [
    {
     "data": {
      "text/html": [
       "<div>\n",
       "<style scoped>\n",
       "    .dataframe tbody tr th:only-of-type {\n",
       "        vertical-align: middle;\n",
       "    }\n",
       "\n",
       "    .dataframe tbody tr th {\n",
       "        vertical-align: top;\n",
       "    }\n",
       "\n",
       "    .dataframe thead th {\n",
       "        text-align: right;\n",
       "    }\n",
       "</style>\n",
       "<table border=\"1\" class=\"dataframe\">\n",
       "  <thead>\n",
       "    <tr style=\"text-align: right;\">\n",
       "      <th></th>\n",
       "      <th>История болезни</th>\n",
       "    </tr>\n",
       "  </thead>\n",
       "  <tbody>\n",
       "    <tr>\n",
       "      <th>count</th>\n",
       "      <td>317</td>\n",
       "    </tr>\n",
       "    <tr>\n",
       "      <th>unique</th>\n",
       "      <td>317</td>\n",
       "    </tr>\n",
       "    <tr>\n",
       "      <th>top</th>\n",
       "      <td>беременность, 3738 недель. Возрастная первород...</td>\n",
       "    </tr>\n",
       "    <tr>\n",
       "      <th>freq</th>\n",
       "      <td>1</td>\n",
       "    </tr>\n",
       "  </tbody>\n",
       "</table>\n",
       "</div>"
      ],
      "text/plain": [
       "                                          История болезни\n",
       "count                                                 317\n",
       "unique                                                317\n",
       "top     беременность, 3738 недель. Возрастная первород...\n",
       "freq                                                    1"
      ]
     },
     "execution_count": 222,
     "metadata": {},
     "output_type": "execute_result"
    }
   ],
   "source": [
    "king_med_df = process_df(king_med_df)\n",
    "king_med_df.describe()\n"
   ]
  },
  {
   "cell_type": "code",
   "execution_count": 223,
   "metadata": {},
   "outputs": [
    {
     "name": "stderr",
     "output_type": "stream",
     "text": [
      "/var/folders/hm/j4vjw44n4k99t0758zmc1h0r0000gn/T/ipykernel_87192/10922732.py:1: FutureWarning: The frame.append method is deprecated and will be removed from pandas in a future version. Use pandas.concat instead.\n",
      "  all_data = studmed_df.append(med_book_df, ignore_index=True)\n",
      "/var/folders/hm/j4vjw44n4k99t0758zmc1h0r0000gn/T/ipykernel_87192/10922732.py:2: FutureWarning: The frame.append method is deprecated and will be removed from pandas in a future version. Use pandas.concat instead.\n",
      "  all_data.append(king_med_df, ignore_index=True).to_csv('data/all_data.csv', index=False)\n"
     ]
    }
   ],
   "source": [
    "all_data = studmed_df.append(med_book_df, ignore_index=True)\n",
    "all_data.append(king_med_df, ignore_index=True).to_csv(\n",
    "    'data/all_data.csv', index=False)\n"
   ]
  },
  {
   "cell_type": "code",
   "execution_count": null,
   "metadata": {},
   "outputs": [],
   "source": []
  },
  {
   "cell_type": "code",
   "execution_count": null,
   "metadata": {},
   "outputs": [],
   "source": []
  }
 ],
 "metadata": {
  "interpreter": {
   "hash": "5952095bdbe8b4ffbd14577aa5a6bbe4b94690ef51ccc21a7c413233b8ef353b"
  },
  "kernelspec": {
   "display_name": "Python 3.9.10 64-bit ('nlp': conda)",
   "language": "python",
   "name": "python3"
  },
  "language_info": {
   "codemirror_mode": {
    "name": "ipython",
    "version": 3
   },
   "file_extension": ".py",
   "mimetype": "text/x-python",
   "name": "python",
   "nbconvert_exporter": "python",
   "pygments_lexer": "ipython3",
   "version": "3.9.10"
  },
  "orig_nbformat": 4
 },
 "nbformat": 4,
 "nbformat_minor": 2
}
